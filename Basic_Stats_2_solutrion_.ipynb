{
  "nbformat": 4,
  "nbformat_minor": 0,
  "metadata": {
    "colab": {
      "provenance": []
    },
    "kernelspec": {
      "name": "python3",
      "display_name": "Python 3"
    },
    "language_info": {
      "name": "python"
    }
  },
  "cells": [
    {
      "cell_type": "code",
      "execution_count": null,
      "metadata": {
        "id": "UDLVflqBDrbA"
      },
      "outputs": [],
      "source": [
        "# Step:1 Understanding the confidence interval\n",
        "# Case A (Unknown population standard deviation): Here we are using the t-distribution because the sample size is small(n<30)\n",
        "# Case B (Known population standard deviation): Here we are using the normal(Z) distribution"
      ]
    },
    {
      "cell_type": "code",
      "source": [
        "# Step:2 Importing the necessary libraries\n",
        "import numpy as np\n",
        "import scipy.stats as stats"
      ],
      "metadata": {
        "id": "JjwOrmjSE8gm"
      },
      "execution_count": 1,
      "outputs": []
    },
    {
      "cell_type": "code",
      "source": [
        "# step:3 Defining the given data\n",
        "data = np.array([1.32, 0.85, 1.07, 1.48, 1.20, 1.33, 1.18, 1.22, 1.29])\n",
        "n = len(data) # sample size\n",
        "sample_mean = np.mean(data) # sample mean\n",
        "sample_std = np.std(data, ddof=1) # sample standard deviation (ddof = 1 for sample)\n",
        "confidence_level = 0.99 # 99% confidence level"
      ],
      "metadata": {
        "id": "kj9CQ_mMFaP2"
      },
      "execution_count": 5,
      "outputs": []
    },
    {
      "cell_type": "code",
      "source": [
        "# Step:4 compute the 99% confidence interval using sample standard deviation\n",
        "# The population standard deviation is unknown, so we use the t-distribution\n",
        "t_critical = stats.t.ppf(1 - (1-confidence_level)/2, df=n-1) # t-score for 99% confidence level\n",
        "margin_of_error_t = t_critical * (sample_std / np.sqrt(n)) #compute margin of error"
      ],
      "metadata": {
        "id": "q1HqBNlOGyDn"
      },
      "execution_count": 6,
      "outputs": []
    },
    {
      "cell_type": "code",
      "source": [
        "# confidence intervl using t-distribution\n",
        "ci_lower_t = sample_mean - margin_of_error_t\n",
        "ci_upper_t = sample_mean + margin_of_error_t"
      ],
      "metadata": {
        "id": "e_UqyrT0OJ2z"
      },
      "execution_count": 9,
      "outputs": []
    },
    {
      "cell_type": "code",
      "source": [
        "print(f\"99% Confidence Interval (using t-distribution): ({ci_lower_t:.4f}, {ci_upper_t:.4f})\")"
      ],
      "metadata": {
        "colab": {
          "base_uri": "https://localhost:8080/"
        },
        "id": "AeWLZh8VYc_U",
        "outputId": "21073066-d6fc-4e5b-8ada-e79953ace463"
      },
      "execution_count": 8,
      "outputs": [
        {
          "output_type": "stream",
          "name": "stdout",
          "text": [
            "99% Confidence Interval (using t-distribution): (1.0155, 1.4156)\n"
          ]
        }
      ]
    },
    {
      "cell_type": "code",
      "source": [
        "# computing the 99% confidence interval using known population standard deviation\n",
        "# Now we know that the population standard deviation is 0.2 million characters, so we are using the Z-distribution\n",
        "pop_std = 0.2 # given population standard deviation\n",
        "z_critical = stats.norm.ppf(1 - (1-confidence_level)/2) # Z-score for 99% confidence level\n",
        "margin_of_error_z = z_critical * (pop_std / np.sqrt(n)) # compute margin of error"
      ],
      "metadata": {
        "id": "vxy5B4o2YmRd"
      },
      "execution_count": 10,
      "outputs": []
    },
    {
      "cell_type": "code",
      "source": [
        "# confidence interval using normal distribution\n",
        "ci_lower_z = sample_mean - margin_of_error_z\n",
        "ci_upper_z = sample_mean + margin_of_error_z"
      ],
      "metadata": {
        "id": "MKd-byRscPe4"
      },
      "execution_count": 11,
      "outputs": []
    },
    {
      "cell_type": "code",
      "source": [
        "print(f\"99% Confidence Interval (using Z-distribution): ({ci_lower_z:.4f}, {ci_upper_z:.4f})\")"
      ],
      "metadata": {
        "colab": {
          "base_uri": "https://localhost:8080/"
        },
        "id": "RypFGwqecuAz",
        "outputId": "8120748c-ea54-4ffe-8e33-80182613845b"
      },
      "execution_count": 12,
      "outputs": [
        {
          "output_type": "stream",
          "name": "stdout",
          "text": [
            "99% Confidence Interval (using Z-distribution): (1.0438, 1.3873)\n"
          ]
        }
      ]
    },
    {
      "cell_type": "code",
      "source": [
        "# Step:6 Interpretation of results\n",
        "# The t-distribution interval accounts for sample variability making it wider.\n",
        "# The Z-distribution interval assumes a known, fixed variability, making it narrower."
      ],
      "metadata": {
        "id": "Echxl1fMc60D"
      },
      "execution_count": 13,
      "outputs": []
    }
  ]
}