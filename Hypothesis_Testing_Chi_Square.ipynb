{
  "nbformat": 4,
  "nbformat_minor": 0,
  "metadata": {
    "colab": {
      "provenance": []
    },
    "kernelspec": {
      "name": "python3",
      "display_name": "Python 3"
    },
    "language_info": {
      "name": "python"
    }
  },
  "cells": [
    {
      "cell_type": "code",
      "execution_count": 10,
      "metadata": {
        "id": "d3fwhQR4p5qW"
      },
      "outputs": [],
      "source": [
        "# State the hypotheses\n",
        "# Null hypothesis(H0): There is no association between the type of device and customer satisfaction.\n",
        "# Alternative Hypothesis(H1): There is a significant asssociation between the type of device and customer satisfaction."
      ]
    },
    {
      "cell_type": "code",
      "source": [
        "# Compute the chi-square statistic"
      ],
      "metadata": {
        "id": "A0nld0NbrChP"
      },
      "execution_count": 11,
      "outputs": []
    },
    {
      "cell_type": "code",
      "source": [
        "# Determine the critical value"
      ],
      "metadata": {
        "id": "bpGUEE9erhTT"
      },
      "execution_count": 12,
      "outputs": []
    },
    {
      "cell_type": "code",
      "source": [
        "# Make a decision\n",
        "# Compare the calculated chi-square statistic to the critical value.\n",
        "# If the statistic is greater than the critical value, reject the null hypothesis."
      ],
      "metadata": {
        "id": "0ffAeDfWrmWc"
      },
      "execution_count": 13,
      "outputs": []
    },
    {
      "cell_type": "code",
      "source": [
        "import numpy as np\n",
        "import scipy.stats as stats"
      ],
      "metadata": {
        "id": "GXdG1BRkr9ae"
      },
      "execution_count": 1,
      "outputs": []
    },
    {
      "cell_type": "code",
      "source": [
        "# Observed frequency table\n",
        "observed = np.array([[50,70], # very satisfied\n",
        "                     [80,100], # satisfied\n",
        "                     [60,90], # neutral\n",
        "                     [30,50], # unsatisfied\n",
        "                     [20,50]  # very unsatisfied\n",
        "                     ])"
      ],
      "metadata": {
        "id": "_XonGMAAsFxH"
      },
      "execution_count": 2,
      "outputs": []
    },
    {
      "cell_type": "code",
      "source": [
        "# perform the chi-square test\n",
        "chi2_stat, p_value, dof, expected = stats.chi2_contingency(observed)"
      ],
      "metadata": {
        "id": "s9A0KodosFun"
      },
      "execution_count": 3,
      "outputs": []
    },
    {
      "cell_type": "code",
      "source": [
        "# critical value at 0.05 significance level\n",
        "alpha = 0.05\n",
        "critical_value = stats.chi2.ppf(1 - alpha, df=dof)"
      ],
      "metadata": {
        "id": "gwUiXWPBsFqs"
      },
      "execution_count": 4,
      "outputs": []
    },
    {
      "cell_type": "code",
      "source": [
        "# Print results\n",
        "print(f\"Chi-Square Statistic: {chi2_stat:.4f}\")\n",
        "print(f\"Degrees of Freedom: {dof}\")\n",
        "print(f\"Critical Value: {critical_value:.4f}\")\n",
        "print(f\"P-Value: {p_value:.4f}\")"
      ],
      "metadata": {
        "colab": {
          "base_uri": "https://localhost:8080/"
        },
        "id": "I9OX4etItq35",
        "outputId": "2ff00b21-9cef-423e-f8ac-218e5e92e63f"
      },
      "execution_count": 6,
      "outputs": [
        {
          "output_type": "stream",
          "name": "stdout",
          "text": [
            "Chi-Square Statistic: 5.6382\n",
            "Degrees of Freedom: 4\n",
            "Critical Value: 9.4877\n",
            "P-Value: 0.2278\n"
          ]
        }
      ]
    },
    {
      "cell_type": "code",
      "source": [
        "# Decision\n",
        "if chi2_stat > critical_value:\n",
        "    print(\"Reject the null hypothesis: There is a significant association.\")\n",
        "else:\n",
        "    print(\"Fail to reject the null hypothesis: No significant association.\")\n"
      ],
      "metadata": {
        "colab": {
          "base_uri": "https://localhost:8080/"
        },
        "id": "gin-syEuuHAZ",
        "outputId": "794c9f6c-7f2a-4fb7-e7b6-ea2979eb4e0a"
      },
      "execution_count": 7,
      "outputs": [
        {
          "output_type": "stream",
          "name": "stdout",
          "text": [
            "Fail to reject the null hypothesis: No significant association.\n"
          ]
        }
      ]
    },
    {
      "cell_type": "code",
      "source": [
        "# Display expected frequency table\n",
        "print(\"Expected Frequencies:\")\n",
        "print(expected)\n"
      ],
      "metadata": {
        "colab": {
          "base_uri": "https://localhost:8080/"
        },
        "id": "BVkrC_VEuMj5",
        "outputId": "e244be9e-aab0-41f7-c6fc-23acc38a9f09"
      },
      "execution_count": 8,
      "outputs": [
        {
          "output_type": "stream",
          "name": "stdout",
          "text": [
            "Expected Frequencies:\n",
            "[[ 48.  72.]\n",
            " [ 72. 108.]\n",
            " [ 60.  90.]\n",
            " [ 32.  48.]\n",
            " [ 28.  42.]]\n"
          ]
        }
      ]
    },
    {
      "cell_type": "code",
      "source": [
        "# if the Chi-Square statistic is greater than the critical value, or if the p-value is less than 0.05, we reject H0, meaning there is an association between device type and satisfaction.\n",
        "# If not, we conclude there is no significant association.\n"
      ],
      "metadata": {
        "id": "qIC23FGLuXZa"
      },
      "execution_count": 9,
      "outputs": []
    }
  ]
}