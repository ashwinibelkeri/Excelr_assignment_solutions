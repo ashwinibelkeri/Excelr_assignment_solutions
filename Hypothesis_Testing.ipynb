{
  "nbformat": 4,
  "nbformat_minor": 0,
  "metadata": {
    "colab": {
      "provenance": []
    },
    "kernelspec": {
      "name": "python3",
      "display_name": "Python 3"
    },
    "language_info": {
      "name": "python"
    }
  },
  "cells": [
    {
      "cell_type": "code",
      "execution_count": 2,
      "metadata": {
        "id": "EGVh8X9zyA-B"
      },
      "outputs": [],
      "source": [
        "# Step 1: State the Hypotheses\n",
        "# Null Hypothesis (H₀): The weekly operating cost follows the given model:\n",
        "#          W=1000+5X\n",
        "# Alternative Hypothesis (H₁): The weekly operating cost is higher than the model suggests.\n",
        "# This is a one-tailed test since we are only testing for an increase in cost."
      ]
    },
    {
      "cell_type": "code",
      "source": [
        "# Step 2: Calculate the Test Statistic\n",
        "# We use the formula for the t-test statistic:\n",
        "# ˉx= sample mean weekly cost = 3050\n",
        "# μ = theoretical mean weekly cost\n",
        "# =1000+5(600)=4000\n",
        "# σ = standard deviation of costs = 5 × 25 = 125\n",
        "# n = sample size = 25\n"
      ],
      "metadata": {
        "id": "ZKjND5x2zCIW"
      },
      "execution_count": 1,
      "outputs": []
    },
    {
      "cell_type": "code",
      "source": [
        "# Step 3: Determine the Critical Value\n",
        "# Since n=25, degrees of freedom (df) = n−1=24.\n",
        "# For α = 0.05 (one-tailed test), the critical value tcritical can be found using a t-distribution table or Python"
      ],
      "metadata": {
        "id": "14jynYkg0fy1"
      },
      "execution_count": 3,
      "outputs": []
    },
    {
      "cell_type": "code",
      "source": [
        "# Step 4: Make a Decision\n",
        "# If ∣t∣ is greater than the critical value, we reject H0\n",
        "# Otherwise, we fail to reject H0"
      ],
      "metadata": {
        "id": "RZeJ4BDG1KS3"
      },
      "execution_count": 4,
      "outputs": []
    },
    {
      "cell_type": "code",
      "source": [
        "# Step 5: Conclusion\n",
        "# If H0 is rejected, the restaurant owners' claim is supported.\n",
        "# If not, there is not enough evidence to support their claim."
      ],
      "metadata": {
        "id": "cAfi-0ws1o35"
      },
      "execution_count": 5,
      "outputs": []
    },
    {
      "cell_type": "code",
      "source": [
        "import scipy.stats as stats\n",
        "import numpy as np"
      ],
      "metadata": {
        "id": "-Oc6OyHM14L4"
      },
      "execution_count": 6,
      "outputs": []
    },
    {
      "cell_type": "code",
      "source": [
        "# Given data\n",
        "sample_mean = 3050  # x̄\n",
        "theoretical_mean = 1000 + (5 * 600)  # μ = 4000\n",
        "std_dev = 5 * 25  # σ = 125\n",
        "sample_size = 25  # n"
      ],
      "metadata": {
        "id": "IUlP3QrS17yt"
      },
      "execution_count": 7,
      "outputs": []
    },
    {
      "cell_type": "code",
      "source": [
        "# Compute the test statistic (t)\n",
        "t_statistic = (sample_mean - theoretical_mean) / (std_dev / np.sqrt(sample_size))\n"
      ],
      "metadata": {
        "id": "FLmQrbvh2CTG"
      },
      "execution_count": 8,
      "outputs": []
    },
    {
      "cell_type": "code",
      "source": [
        "# Determine the critical value (one-tailed test, alpha = 0.05)\n",
        "alpha = 0.05\n",
        "df = sample_size - 1  # Degrees of freedom\n",
        "t_critical = stats.t.ppf(1 - alpha, df)"
      ],
      "metadata": {
        "id": "cI_z_nbQ2CP4"
      },
      "execution_count": 9,
      "outputs": []
    },
    {
      "cell_type": "code",
      "source": [
        "# Print results\n",
        "print(f\"Test Statistic (t): {t_statistic:.4f}\")\n",
        "print(f\"Critical Value: {t_critical:.4f}\")"
      ],
      "metadata": {
        "colab": {
          "base_uri": "https://localhost:8080/"
        },
        "id": "NVfR5J5U2OWW",
        "outputId": "d5a3a1cd-291e-431b-ceb8-0fcabd02cc8e"
      },
      "execution_count": 10,
      "outputs": [
        {
          "output_type": "stream",
          "name": "stdout",
          "text": [
            "Test Statistic (t): -38.0000\n",
            "Critical Value: 1.7109\n"
          ]
        }
      ]
    },
    {
      "cell_type": "code",
      "source": [
        "# Decision\n",
        "if t_statistic > t_critical:\n",
        "    print(\"Reject the null hypothesis: The weekly operating cost is significantly higher.\")\n",
        "else:\n",
        "    print(\"Fail to reject the null hypothesis: No strong evidence that costs have increased.\")"
      ],
      "metadata": {
        "colab": {
          "base_uri": "https://localhost:8080/"
        },
        "id": "1j1sonLF2SQa",
        "outputId": "81f2f312-d76c-485a-8ed9-501455329edf"
      },
      "execution_count": 11,
      "outputs": [
        {
          "output_type": "stream",
          "name": "stdout",
          "text": [
            "Fail to reject the null hypothesis: No strong evidence that costs have increased.\n"
          ]
        }
      ]
    },
    {
      "cell_type": "code",
      "source": [
        "# Interpretation of Results\n",
        "# If t-statistic exceeds the critical value, we reject H0 and conclude that the weekly operating costs are higher.\n",
        "# Otherwise, we fail to reject H0,meaning we don't have enough proof that costs have increased."
      ],
      "metadata": {
        "id": "ls14-PAt2YwP"
      },
      "execution_count": 12,
      "outputs": []
    }
  ]
}