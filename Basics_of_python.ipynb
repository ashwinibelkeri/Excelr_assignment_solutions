{
  "nbformat": 4,
  "nbformat_minor": 0,
  "metadata": {
    "colab": {
      "provenance": []
    },
    "kernelspec": {
      "name": "python3",
      "display_name": "Python 3"
    },
    "language_info": {
      "name": "python"
    }
  },
  "cells": [
    {
      "cell_type": "code",
      "execution_count": 2,
      "metadata": {
        "id": "16d1I_H4W3jN",
        "colab": {
          "base_uri": "https://localhost:8080/"
        },
        "outputId": "a9f5044d-f75f-42a3-e638-5e32788f71fd"
      },
      "outputs": [
        {
          "output_type": "stream",
          "name": "stdout",
          "text": [
            "ENTER A NUMBER:2\n",
            "prime\n"
          ]
        }
      ],
      "source": [
        "# Prime Numbdrs\n",
        "def is_prime(n):\n",
        "  if (n<2):\n",
        "    return False\n",
        "  for i in range(2, int(n ** 0.5)+1):\n",
        "    if n%i ==0:\n",
        "      return False\n",
        "\n",
        "  return True\n",
        "\n",
        "num = int(input(\"ENTER A NUMBER:\")) #3\n",
        "status = is_prime(num) # is_Prime(3)\n",
        "if(status == True):\n",
        "  print(\"prime\")\n",
        "else:\n",
        "  print(\"Not a prime\")"
      ]
    },
    {
      "cell_type": "code",
      "source": [
        "def check_prime(n):\n",
        "  if(n<2):\n",
        "    return False\n",
        "  for i in range(2, int(n ** 0.5)+1):\n",
        "    if(n%i==0):\n",
        "      return False\n",
        "  return True\n",
        "\n",
        "a = int(input(\"Enter number:\"))\n",
        "b = check_prime(a)\n",
        "if(b==True):\n",
        "  print(\"prime number\")\n",
        "else:\n",
        "  print(\"Not a prime\")"
      ],
      "metadata": {
        "id": "VwS5DGAIgszP",
        "colab": {
          "base_uri": "https://localhost:8080/"
        },
        "outputId": "fca3bfee-9ad8-4265-f7f3-f4ef81f1ff62"
      },
      "execution_count": 3,
      "outputs": [
        {
          "output_type": "stream",
          "name": "stdout",
          "text": [
            "Enter number:4\n",
            "Not a prime\n"
          ]
        }
      ]
    },
    {
      "cell_type": "code",
      "source": [
        "#Product of random numbers\n",
        "import random\n",
        "\n",
        "a = random.randint(0,10)\n",
        "b = random.randint(0,10)\n",
        "print(a,b)\n",
        "userValue =int(input(\"Enter product of \" +str(a)+ \" and \" +str(b)+\" \"))\n",
        "sysValue = a*b\n",
        "if(sysValue==userValue):\n",
        "  print(\"users ans is correct\")\n",
        "else:\n",
        "  print(\"users ans is incorrect\")"
      ],
      "metadata": {
        "id": "VZDA6a1gl5R5",
        "colab": {
          "base_uri": "https://localhost:8080/"
        },
        "outputId": "a5f61d49-1a57-4262-c591-f5f141c4a7b6"
      },
      "execution_count": 4,
      "outputs": [
        {
          "output_type": "stream",
          "name": "stdout",
          "text": [
            "8 3\n",
            "Enter product of 8 and 3 23\n",
            "users ans is incorrect\n"
          ]
        }
      ]
    },
    {
      "cell_type": "code",
      "source": [
        "#Squares of Even/Odd numbers\n",
        "data = int(input(\"Enter 1. Odd  2. Even \"))\n",
        "if(data ==1):\n",
        "  odd_numbers = [num * num for num in range(1,11) if(num%2!=0)]\n",
        "  print(odd_numbers)\n"
      ],
      "metadata": {
        "colab": {
          "base_uri": "https://localhost:8080/"
        },
        "id": "N4rzf2SNNO7E",
        "outputId": "0c510a6c-36cb-42f1-8903-72b45232d4bf"
      },
      "execution_count": 5,
      "outputs": [
        {
          "output_type": "stream",
          "name": "stdout",
          "text": [
            "Enter 1. Odd  2. Even 1\n",
            "[1, 9, 25, 49, 81]\n"
          ]
        }
      ]
    },
    {
      "cell_type": "code",
      "source": [
        "data = int(input(\"Enter 1. Odd  2. Even \"))\n",
        "odd_numbers = []\n",
        "even_numbers = []\n",
        "if(data==1):\n",
        "  for i in range(100,201):\n",
        "    if(i%2!=0):\n",
        "      #print(i)\n",
        "      odd_numbers.append(i*i)\n",
        "  print(odd_numbers)\n",
        "elif(data==2):\n",
        "    for j in range(100,201):\n",
        "      if (j%2==0):\n",
        "        even_numbers.append(j*j)\n",
        "    print(even_numbers)\n"
      ],
      "metadata": {
        "colab": {
          "base_uri": "https://localhost:8080/"
        },
        "id": "mb7mC_MucIbc",
        "outputId": "22b9588c-e964-4b02-e3fc-5e0eadee2a6f"
      },
      "execution_count": 6,
      "outputs": [
        {
          "output_type": "stream",
          "name": "stdout",
          "text": [
            "Enter 1. Odd  2. Even 1\n",
            "[10201, 10609, 11025, 11449, 11881, 12321, 12769, 13225, 13689, 14161, 14641, 15129, 15625, 16129, 16641, 17161, 17689, 18225, 18769, 19321, 19881, 20449, 21025, 21609, 22201, 22801, 23409, 24025, 24649, 25281, 25921, 26569, 27225, 27889, 28561, 29241, 29929, 30625, 31329, 32041, 32761, 33489, 34225, 34969, 35721, 36481, 37249, 38025, 38809, 39601]\n"
          ]
        }
      ]
    },
    {
      "cell_type": "code",
      "source": [
        "ori_string = input(\"Enter a string:\")\n",
        "rev_string = ori_string[::-1]\n",
        "print(rev_string)\n",
        "if(ori_string==rev_string):\n",
        "  print(\"is a palindrom\")\n",
        "else:\n",
        "  print(\"not a palindrom\")\n",
        ""
      ],
      "metadata": {
        "colab": {
          "base_uri": "https://localhost:8080/"
        },
        "id": "iBXMto3YNCOC",
        "outputId": "40bf8e1f-9de9-4091-99f1-6e4b0f99bfcd"
      },
      "execution_count": 8,
      "outputs": [
        {
          "output_type": "stream",
          "name": "stdout",
          "text": [
            "Enter a string:tony\n",
            "ynot\n",
            "not a palindrom\n"
          ]
        }
      ]
    },
    {
      "cell_type": "code",
      "source": [
        "# Word Counter\n",
        "import re\n",
        "from collections import Counter\n",
        "sentence = \"This is a sample text. This text will be used to demonstrate the word counter.\"\n",
        "updated_sentence = re.findall(r'\\b\\w+\\b', sentence.lower())\n",
        "#print(updated_sentence)\n",
        "word_count = Counter(updated_sentence)\n",
        "print(word_count)\n"
      ],
      "metadata": {
        "colab": {
          "base_uri": "https://localhost:8080/"
        },
        "id": "nzSigDhHfnQn",
        "outputId": "2b14c42d-d5f9-4282-f2c8-9838a7047543"
      },
      "execution_count": 14,
      "outputs": [
        {
          "output_type": "stream",
          "name": "stdout",
          "text": [
            "Counter({'this': 2, 'text': 2, 'is': 1, 'a': 1, 'sample': 1, 'will': 1, 'be': 1, 'used': 1, 'to': 1, 'demonstrate': 1, 'the': 1, 'word': 1, 'counter': 1})\n"
          ]
        }
      ]
    }
  ]
}